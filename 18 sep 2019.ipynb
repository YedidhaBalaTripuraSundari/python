{
 "cells": [
  {
   "cell_type": "markdown",
   "metadata": {},
   "source": [
    "# File Handling Function in Python\n",
    "Built-in-Functions in Files\n",
    "- open()\n",
    "- close()"
   ]
  },
  {
   "cell_type": "markdown",
   "metadata": {},
   "source": [
    "files contains 3 types of modes \n",
    "- r\n",
    "    - read()\n",
    "    - readline()\n",
    "    - readlines()\n",
    "- w \n",
    "    - write()\n",
    "- a"
   ]
  },
  {
   "cell_type": "markdown",
   "metadata": {},
   "source": [
    "To create a file using \"w\" mode"
   ]
  },
  {
   "cell_type": "code",
   "execution_count": 5,
   "metadata": {},
   "outputs": [
    {
     "name": "stdout",
     "output_type": "stream",
     "text": [
      "13\n"
     ]
    }
   ],
   "source": [
    "f1=open(\"files1.txt\",\"w\")\n",
    "f2=f1.write(\"baru bangaram\")\n",
    "print(f2)\n",
    "f1.close()\n"
   ]
  },
  {
   "cell_type": "markdown",
   "metadata": {},
   "source": [
    "# To read a file using \"r\" mode"
   ]
  },
  {
   "cell_type": "code",
   "execution_count": 13,
   "metadata": {},
   "outputs": [
    {
     "name": "stdout",
     "output_type": "stream",
     "text": [
      "baru bangaram\n",
      "venky \n",
      "rani\n",
      "gayathri\n",
      "cute family\n"
     ]
    }
   ],
   "source": [
    "f1=open(\"files1.txt\",\"r\")\n",
    "f2=f1.read()\n",
    "print(f2)\n",
    "f1.close()"
   ]
  },
  {
   "cell_type": "code",
   "execution_count": 104,
   "metadata": {},
   "outputs": [
    {
     "name": "stdout",
     "output_type": "stream",
     "text": [
      "baru bangaram\n",
      "\n"
     ]
    }
   ],
   "source": [
    "f1=open(\"files1.txt\",\"r\")\n",
    "f2=f1.readline()\n",
    "print(f2)\n",
    "f1.close()"
   ]
  },
  {
   "cell_type": "code",
   "execution_count": 103,
   "metadata": {},
   "outputs": [
    {
     "name": "stdout",
     "output_type": "stream",
     "text": [
      "['baru bangaram\\n', 'venky \\n', 'rani\\n', 'gayathri\\n', 'cute family']\n"
     ]
    }
   ],
   "source": [
    "f1=open(\"files1.txt\",\"r\")\n",
    "f2=f1.readlines()\n",
    "print(f2)\n",
    "f1.close()"
   ]
  },
  {
   "cell_type": "code",
   "execution_count": 17,
   "metadata": {},
   "outputs": [
    {
     "data": {
      "text/plain": [
       "'baru bangaram\\nvenky \\nrani\\ngayathri\\ncute family'"
      ]
     },
     "execution_count": 17,
     "metadata": {},
     "output_type": "execute_result"
    }
   ],
   "source": [
    "# using function\n",
    "def readFile(filepath):\n",
    "    with open(filepath,\"r\") as f:\n",
    "        data=f.read()\n",
    "    return data\n",
    "filepath=\"files1.txt\"\n",
    "readFile(filepath)"
   ]
  },
  {
   "cell_type": "markdown",
   "metadata": {},
   "source": [
    "# Using for loop"
   ]
  },
  {
   "cell_type": "code",
   "execution_count": 21,
   "metadata": {},
   "outputs": [
    {
     "name": "stdout",
     "output_type": "stream",
     "text": [
      "baru bangaram\n",
      "\n",
      "venky \n",
      "\n",
      "rani\n",
      "\n",
      "gayathri\n",
      "\n",
      "cute family\n"
     ]
    }
   ],
   "source": [
    "f =open(\"files1.txt\",\"r\")\n",
    "for line in f.readlines():\n",
    "    print(line)"
   ]
  },
  {
   "cell_type": "code",
   "execution_count": 22,
   "metadata": {},
   "outputs": [
    {
     "name": "stdout",
     "output_type": "stream",
     "text": [
      "b\n",
      "a\n",
      "r\n",
      "u\n",
      " \n",
      "b\n",
      "a\n",
      "n\n",
      "g\n",
      "a\n",
      "r\n",
      "a\n",
      "m\n",
      "\n",
      "\n",
      "v\n",
      "e\n",
      "n\n",
      "k\n",
      "y\n",
      " \n",
      "\n",
      "\n",
      "r\n",
      "a\n",
      "n\n",
      "i\n",
      "\n",
      "\n",
      "g\n",
      "a\n",
      "y\n",
      "a\n",
      "t\n",
      "h\n",
      "r\n",
      "i\n",
      "\n",
      "\n",
      "c\n",
      "u\n",
      "t\n",
      "e\n",
      " \n",
      "f\n",
      "a\n",
      "m\n",
      "i\n",
      "l\n",
      "y\n"
     ]
    }
   ],
   "source": [
    "f =open(\"files1.txt\",\"r\")\n",
    "for line in f.read():\n",
    "    print(line)"
   ]
  },
  {
   "cell_type": "code",
   "execution_count": 56,
   "metadata": {},
   "outputs": [
    {
     "name": "stdout",
     "output_type": "stream",
     "text": [
      "b\n",
      "a\n",
      "r\n",
      "u\n",
      " \n",
      "b\n",
      "a\n",
      "n\n",
      "g\n",
      "a\n",
      "r\n",
      "a\n",
      "m\n",
      "\n",
      "\n"
     ]
    }
   ],
   "source": [
    "f =open(\"files1.txt\",\"r\")\n",
    "for line in f.readline():\n",
    "    print(line)"
   ]
  },
  {
   "cell_type": "code",
   "execution_count": 24,
   "metadata": {},
   "outputs": [
    {
     "name": "stdout",
     "output_type": "stream",
     "text": [
      "baru bangaram\n",
      "\n",
      "venky \n",
      "\n",
      "rani\n",
      "\n",
      "gayathri\n",
      "\n",
      "cute family\n"
     ]
    }
   ],
   "source": [
    "f =open(\"files1.txt\",\"r\")\n",
    "for line in f:\n",
    "    print(line)"
   ]
  },
  {
   "cell_type": "code",
   "execution_count": 29,
   "metadata": {},
   "outputs": [
    {
     "name": "stdout",
     "output_type": "stream",
     "text": [
      "b\n",
      "a\n",
      "r\n",
      "u\n",
      " \n"
     ]
    }
   ],
   "source": [
    "f =open(\"files1.txt\",\"r\")\n",
    "for line in f.read(5):\n",
    "    print(line)"
   ]
  },
  {
   "cell_type": "markdown",
   "metadata": {},
   "source": [
    "# Write a program to count no of lines  in a file"
   ]
  },
  {
   "cell_type": "code",
   "execution_count": 40,
   "metadata": {},
   "outputs": [
    {
     "name": "stdout",
     "output_type": "stream",
     "text": [
      "line 1 : baru bangaram\n",
      "\n",
      "line 2 : venky \n",
      "\n",
      "line 3 : rani\n",
      "\n",
      "line 4 : gayathri\n",
      "\n",
      "line 5 : cute family\n"
     ]
    }
   ],
   "source": [
    "f =open(\"files1.txt\",\"r\")\n",
    "c=0\n",
    "for line in f.readlines():\n",
    "    c=c+1\n",
    "    print(\"line\",c,':',line)"
   ]
  },
  {
   "cell_type": "code",
   "execution_count": 73,
   "metadata": {},
   "outputs": [
    {
     "name": "stdout",
     "output_type": "stream",
     "text": [
      "7\n"
     ]
    }
   ],
   "source": [
    "f =open(\"files1.txt\",\"r\")\n",
    "c=0\n",
    "with open(\"files1.txt\",'r') as f:\n",
    "    for line in f:\n",
    "        words=line.split()\n",
    "        c=c+len(words)\n",
    "print(c)"
   ]
  },
  {
   "cell_type": "code",
   "execution_count": 67,
   "metadata": {},
   "outputs": [
    {
     "name": "stdout",
     "output_type": "stream",
     "text": [
      "line 1 : 14\n",
      "line 2 : 7\n",
      "line 3 : 5\n",
      "line 4 : 9\n",
      "line 5 : 11\n"
     ]
    }
   ],
   "source": [
    "f =open(\"files1.txt\",\"r\")\n",
    "c=0\n",
    "for line in f.readlines():\n",
    "    c=c+1\n",
    "    print(\"line\",c,':',len(line))"
   ]
  },
  {
   "cell_type": "code",
   "execution_count": 70,
   "metadata": {},
   "outputs": [
    {
     "name": "stdout",
     "output_type": "stream",
     "text": [
      "name2 gayathri 8187046519 N150330@rguktn.ac.in\n",
      "\n"
     ]
    }
   ],
   "source": [
    "# write a program to search a name in contacts\n",
    "import re\n",
    "def searchcontact(name):\n",
    "    with open(\"contacts.txt\",\"r\") as f:\n",
    "        for i in f.readlines():\n",
    "            if re.search(name,i):\n",
    "                    print(i)\n",
    "searchcontact(\"name2\")"
   ]
  },
  {
   "cell_type": "code",
   "execution_count": 87,
   "metadata": {},
   "outputs": [
    {
     "name": "stdout",
     "output_type": "stream",
     "text": [
      "20\n"
     ]
    }
   ],
   "source": [
    "f=open(\"contacts.txt\",\"a\")\n",
    "f1=f.write(\" baru is a good girl\")\n",
    "print(f1)"
   ]
  },
  {
   "cell_type": "markdown",
   "metadata": {},
   "source": [
    "# Write a python program to read file line by line and store in a list"
   ]
  },
  {
   "cell_type": "code",
   "execution_count": 106,
   "metadata": {},
   "outputs": [
    {
     "name": "stdout",
     "output_type": "stream",
     "text": [
      "['baru bangaram\\n', 'venky \\n', 'rani\\n', 'gayathri\\n', 'cute family']\n"
     ]
    }
   ],
   "source": [
    "f=open(\"files1.txt\",\"r\")\n",
    "l=[]\n",
    "for line in f.readlines():\n",
    "    s=l.append(line)\n",
    "print(l)"
   ]
  },
  {
   "cell_type": "markdown",
   "metadata": {},
   "source": [
    "# Write a program to count the frequency of each word"
   ]
  },
  {
   "cell_type": "code",
   "execution_count": 110,
   "metadata": {},
   "outputs": [
    {
     "name": "stdout",
     "output_type": "stream",
     "text": [
      "Counter({'baru': 3, 'bangaram': 1, 'venky': 1, 'rani': 1, 'gayathri': 1, 'cute': 1, 'family': 1})\n"
     ]
    }
   ],
   "source": [
    "from collections import Counter\n",
    "def wordFreq(filepath):\n",
    "    with open(filepath,\"r\") as f:\n",
    "        return Counter(f.read().split())\n",
    "print(wordFreq(filepath))"
   ]
  },
  {
   "cell_type": "code",
   "execution_count": 111,
   "metadata": {},
   "outputs": [],
   "source": [
    "from random import randint\n",
    "def marks(n,lb,ub):\n",
    "    with open('marks.txt','w') as f:\n",
    "        for i in range(0,n):\n",
    "            r=randint(lb,ub)\n",
    "            f.write(str(r)+'\\n')\n",
    "    return\n",
    "marks(100,0,100)"
   ]
  },
  {
   "cell_type": "markdown",
   "metadata": {},
   "source": [
    "# tell() and seek() methods"
   ]
  },
  {
   "cell_type": "code",
   "execution_count": 116,
   "metadata": {},
   "outputs": [
    {
     "name": "stdout",
     "output_type": "stream",
     "text": [
      "5\n"
     ]
    }
   ],
   "source": [
    "f=open(\"files1.txt\",'r')\n",
    "f.read()\n",
    "print(f.seek(5))\n",
    "f.close()"
   ]
  },
  {
   "cell_type": "code",
   "execution_count": 117,
   "metadata": {},
   "outputs": [
    {
     "name": "stdout",
     "output_type": "stream",
     "text": [
      "63\n"
     ]
    }
   ],
   "source": [
    "f=open(\"files1.txt\",'r')\n",
    "f.read()\n",
    "print(f.tell())\n",
    "f.close()"
   ]
  },
  {
   "cell_type": "markdown",
   "metadata": {},
   "source": [
    "# Program to get the size of the file"
   ]
  },
  {
   "cell_type": "code",
   "execution_count": 119,
   "metadata": {},
   "outputs": [
    {
     "name": "stdout",
     "output_type": "stream",
     "text": [
      "63 kb\n"
     ]
    }
   ],
   "source": [
    "import os\n",
    "print(os.path.getsize('files1.txt'),'kb')\n"
   ]
  },
  {
   "cell_type": "code",
   "execution_count": null,
   "metadata": {},
   "outputs": [],
   "source": []
  }
 ],
 "metadata": {
  "kernelspec": {
   "display_name": "Python 3",
   "language": "python",
   "name": "python3"
  },
  "language_info": {
   "codemirror_mode": {
    "name": "ipython",
    "version": 3
   },
   "file_extension": ".py",
   "mimetype": "text/x-python",
   "name": "python",
   "nbconvert_exporter": "python",
   "pygments_lexer": "ipython3",
   "version": "3.7.3"
  }
 },
 "nbformat": 4,
 "nbformat_minor": 2
}
