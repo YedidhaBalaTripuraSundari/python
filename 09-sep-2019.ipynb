{
 "cells": [
  {
   "cell_type": "markdown",
   "metadata": {},
   "source": [
    "# Conditonal statements"
   ]
  },
  {
   "cell_type": "markdown",
   "metadata": {},
   "source": [
    "1) If statement"
   ]
  },
  {
   "cell_type": "code",
   "execution_count": 2,
   "metadata": {},
   "outputs": [
    {
     "name": "stdout",
     "output_type": "stream",
     "text": [
      "enter marks: 45\n"
     ]
    }
   ],
   "source": [
    "marks=int(input(\"enter marks: \"))\n",
    "passed= 50\n",
    "distinction =90"
   ]
  },
  {
   "cell_type": "code",
   "execution_count": 4,
   "metadata": {},
   "outputs": [
    {
     "name": "stdout",
     "output_type": "stream",
     "text": [
      "fail\n"
     ]
    }
   ],
   "source": [
    "if marks >= distinction:\n",
    "    print(\"topper\")\n",
    "if marks >= passed and marks < distiction:\n",
    "    print(\"pass\")\n",
    "    \n",
    "if marks < passed:\n",
    "    print(\"fail\")"
   ]
  },
  {
   "cell_type": "code",
   "execution_count": 6,
   "metadata": {},
   "outputs": [
    {
     "name": "stdout",
     "output_type": "stream",
     "text": [
      "bad review\n"
     ]
    }
   ],
   "source": [
    "statement=\"baru is bad girl\"\n",
    "if 'bad' in statement:\n",
    "    print(\"bad review\")"
   ]
  },
  {
   "cell_type": "code",
   "execution_count": 7,
   "metadata": {},
   "outputs": [
    {
     "data": {
      "text/plain": [
       "False"
      ]
     },
     "execution_count": 7,
     "metadata": {},
     "output_type": "execute_result"
    }
   ],
   "source": [
    "'z' in \"hello\""
   ]
  },
  {
   "cell_type": "markdown",
   "metadata": {},
   "source": [
    "2)If else statement"
   ]
  },
  {
   "cell_type": "code",
   "execution_count": 8,
   "metadata": {},
   "outputs": [
    {
     "name": "stdout",
     "output_type": "stream",
     "text": [
      "enter number5\n",
      "odd\n"
     ]
    }
   ],
   "source": [
    "n=int(input(\"enter number\"))\n",
    "if n%2==0:\n",
    "    print(\"even\")\n",
    "else:\n",
    "    print(\"odd\")"
   ]
  },
  {
   "cell_type": "code",
   "execution_count": 9,
   "metadata": {},
   "outputs": [
    {
     "name": "stdout",
     "output_type": "stream",
     "text": [
      "false\n"
     ]
    }
   ],
   "source": [
    "if None:\n",
    "    print(\"true\")\n",
    "else:\n",
    "    print(\"false\")"
   ]
  },
  {
   "cell_type": "markdown",
   "metadata": {},
   "source": [
    "# Check the number if it is even divisble by 4 or not and if it is odd is it divisible by 3 or not"
   ]
  },
  {
   "cell_type": "code",
   "execution_count": 11,
   "metadata": {},
   "outputs": [
    {
     "name": "stdout",
     "output_type": "stream",
     "text": [
      "enter number7\n",
      "n is odd and not divisible by 3\n"
     ]
    }
   ],
   "source": [
    "n=int(input(\"enter number\"))\n",
    "if n%2==0:\n",
    "    if n%4==0:\n",
    "        print(\"n is even and divisible by 4\")\n",
    "    else:\n",
    "        print(\"n is even and not divisible by 4\")\n",
    "else:\n",
    "    if n%3==0:\n",
    "        print(\" n is odd and divisible by 3\")\n",
    "    else:\n",
    "        print(\"n is odd and not divisible by 3\")"
   ]
  },
  {
   "cell_type": "markdown",
   "metadata": {},
   "source": [
    "# Check the given year is leap or not"
   ]
  },
  {
   "cell_type": "code",
   "execution_count": 16,
   "metadata": {},
   "outputs": [
    {
     "name": "stdout",
     "output_type": "stream",
     "text": [
      "enter year2016\n",
      "leap\n"
     ]
    }
   ],
   "source": [
    "n=int(input(\"enter year\"))\n",
    "if n%400==0 or n%4==0 and n%100!=0:\n",
    "    print(\"leap\")\n",
    "else:\n",
    "    print(\"not leap\")"
   ]
  },
  {
   "cell_type": "markdown",
   "metadata": {},
   "source": [
    "# Check if a number exists in given range(inclusive)"
   ]
  },
  {
   "cell_type": "code",
   "execution_count": 19,
   "metadata": {},
   "outputs": [
    {
     "name": "stdout",
     "output_type": "stream",
     "text": [
      "enter number123\n",
      "n is in given range\n"
     ]
    }
   ],
   "source": [
    "n=int(input(\"enter number\"))\n",
    "lb=50\n",
    "ub=123\n",
    "if n>=lb and n<=ub:\n",
    "    print(\"n is in given range\")\n",
    "else:\n",
    "    print(\"n is not in range\")"
   ]
  },
  {
   "cell_type": "markdown",
   "metadata": {},
   "source": [
    "# Check if the given number is multiple of 10 or not"
   ]
  },
  {
   "cell_type": "code",
   "execution_count": 23,
   "metadata": {},
   "outputs": [
    {
     "name": "stdout",
     "output_type": "stream",
     "text": [
      "eneter number98\n",
      "not a multiple of 10\n"
     ]
    }
   ],
   "source": [
    "n=int(input(\"eneter number\"))\n",
    "if n%10==0:\n",
    "    print(\"it is multiple of 10\")\n",
    "else:\n",
    "    print(\"not a multiple of 10\")"
   ]
  },
  {
   "cell_type": "markdown",
   "metadata": {},
   "source": [
    "# Check if the number is factor of 100 or not"
   ]
  },
  {
   "cell_type": "code",
   "execution_count": 27,
   "metadata": {},
   "outputs": [
    {
     "name": "stdout",
     "output_type": "stream",
     "text": [
      "enter number45\n",
      "45 is not a factor of 100\n"
     ]
    }
   ],
   "source": [
    "n=int(input(\"enter number\"))\n",
    "if 100%n==0:\n",
    "    print(n,\"is a factor of 100\")\n",
    "else:\n",
    "    print(n,\"is not a factor of 100\")"
   ]
  },
  {
   "cell_type": "markdown",
   "metadata": {},
   "source": [
    "# Check the given string and number string length is equal or not"
   ]
  },
  {
   "cell_type": "code",
   "execution_count": 32,
   "metadata": {},
   "outputs": [
    {
     "name": "stdout",
     "output_type": "stream",
     "text": [
      "equal\n"
     ]
    }
   ],
   "source": [
    "n=123456\n",
    "s=\"python\"\n",
    "q=len(str(n))\n",
    "if q==len(s):\n",
    "    print(\"equal\")\n",
    "else:\n",
    "    print(\"not equal\")"
   ]
  },
  {
   "cell_type": "markdown",
   "metadata": {},
   "source": [
    "# Calculate the number of nano seconds in a given year "
   ]
  },
  {
   "cell_type": "code",
   "execution_count": 36,
   "metadata": {},
   "outputs": [
    {
     "name": "stdout",
     "output_type": "stream",
     "text": [
      "enter a year2016\n",
      "0.0316224\n"
     ]
    }
   ],
   "source": [
    "y=int(input(\"enter a year\"))\n",
    "if y%400==0 or y%4==0 and y%100!=0:\n",
    "    print(366*24*60*60*(10**-9))\n",
    "else:\n",
    "    print(365*24*60*60(10**-9))"
   ]
  },
  {
   "cell_type": "markdown",
   "metadata": {},
   "source": [
    "3)Elif statement"
   ]
  },
  {
   "cell_type": "markdown",
   "metadata": {},
   "source": [
    "# Print the greatest of 3 numbers"
   ]
  },
  {
   "cell_type": "code",
   "execution_count": 38,
   "metadata": {},
   "outputs": [
    {
     "name": "stdout",
     "output_type": "stream",
     "text": [
      "enter number4\n",
      "enter number6\n",
      "enter number7\n",
      "7\n"
     ]
    }
   ],
   "source": [
    "a=int(input(\"enter number\"))\n",
    "b=int(input(\"enter number\"))\n",
    "c=int(input(\"enter number\"))\n",
    "if a>b and a>c:\n",
    "    print(a)\n",
    "elif b>a and b>c:\n",
    "    print(b)\n",
    "else:\n",
    "    print(c)"
   ]
  },
  {
   "cell_type": "markdown",
   "metadata": {},
   "source": [
    "# Print the grades based on marks"
   ]
  },
  {
   "cell_type": "code",
   "execution_count": 42,
   "metadata": {},
   "outputs": [
    {
     "name": "stdout",
     "output_type": "stream",
     "text": [
      "enter marks50\n",
      "c\n"
     ]
    }
   ],
   "source": [
    "m=int(input(\"enter marks\"))\n",
    "if m>=90 and m<100:\n",
    "    print(\"distinciton\")\n",
    "elif m<=80 and m>=75:\n",
    "    print(\"a\")\n",
    "elif m>50 and m<75:\n",
    "    print(\"b\")\n",
    "elif m>35 and m<=50:\n",
    "    print (\"c\")\n",
    "else:\n",
    "    print(\"d\")\n",
    "    "
   ]
  },
  {
   "cell_type": "markdown",
   "metadata": {},
   "source": [
    "4)Nested if"
   ]
  },
  {
   "cell_type": "markdown",
   "metadata": {},
   "source": [
    "# Check the number is positive or negitive or zero"
   ]
  },
  {
   "cell_type": "code",
   "execution_count": 49,
   "metadata": {},
   "outputs": [
    {
     "name": "stdout",
     "output_type": "stream",
     "text": [
      "enter number0\n",
      "zero\n"
     ]
    }
   ],
   "source": [
    "n=int(input(\"enter number\"))\n",
    "if n>=0:\n",
    "    if n>0:\n",
    "        print(\"positive\")\n",
    "    else:\n",
    "        print(\"zero\")\n",
    "else:\n",
    "    print(\"negative\")"
   ]
  },
  {
   "cell_type": "markdown",
   "metadata": {},
   "source": [
    "# Tasks"
   ]
  },
  {
   "cell_type": "markdown",
   "metadata": {},
   "source": [
    "# Square root of a given number"
   ]
  },
  {
   "cell_type": "code",
   "execution_count": 52,
   "metadata": {},
   "outputs": [
    {
     "name": "stdout",
     "output_type": "stream",
     "text": [
      "enter number4\n",
      "2.0\n"
     ]
    }
   ],
   "source": [
    "n=int(input(\"enter number\"))\n",
    "if n>0:\n",
    "    print(n ** 0.5)\n",
    "else:\n",
    "    print(\"square root not possible for negative numbers\")"
   ]
  },
  {
   "cell_type": "markdown",
   "metadata": {},
   "source": [
    "# Count number of digits in a number"
   ]
  },
  {
   "cell_type": "code",
   "execution_count": 55,
   "metadata": {},
   "outputs": [
    {
     "name": "stdout",
     "output_type": "stream",
     "text": [
      "enter a number34\n",
      "2\n"
     ]
    }
   ],
   "source": [
    "n=int(input(\"enter a number\"))\n",
    "if n>1:\n",
    "    print(len(str(n)))\n",
    "else:\n",
    "    print(1)"
   ]
  },
  {
   "cell_type": "code",
   "execution_count": null,
   "metadata": {},
   "outputs": [],
   "source": []
  }
 ],
 "metadata": {
  "kernelspec": {
   "display_name": "Python 3",
   "language": "python",
   "name": "python3"
  },
  "language_info": {
   "codemirror_mode": {
    "name": "ipython",
    "version": 3
   },
   "file_extension": ".py",
   "mimetype": "text/x-python",
   "name": "python",
   "nbconvert_exporter": "python",
   "pygments_lexer": "ipython3",
   "version": "3.7.3"
  }
 },
 "nbformat": 4,
 "nbformat_minor": 2
}
