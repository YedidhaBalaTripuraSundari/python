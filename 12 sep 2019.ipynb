{
 "cells": [
  {
   "cell_type": "markdown",
   "metadata": {},
   "source": [
    "# Dictionaries"
   ]
  },
  {
   "cell_type": "code",
   "execution_count": 8,
   "metadata": {},
   "outputs": [
    {
     "data": {
      "text/plain": [
       "'value2'"
      ]
     },
     "execution_count": 8,
     "metadata": {},
     "output_type": "execute_result"
    }
   ],
   "source": [
    "d1={}\n",
    "d1={'key1':'value1','key2':'value2'}\n",
    "d2={1:2,2:45,3:45}\n",
    "d2[2]\n",
    "d1['key2']"
   ]
  },
  {
   "cell_type": "markdown",
   "metadata": {},
   "source": [
    "## Dictionary methods"
   ]
  },
  {
   "cell_type": "markdown",
   "metadata": {},
   "source": [
    "* get()"
   ]
  },
  {
   "cell_type": "code",
   "execution_count": 12,
   "metadata": {},
   "outputs": [
    {
     "data": {
      "text/plain": [
       "300"
      ]
     },
     "execution_count": 12,
     "metadata": {},
     "output_type": "execute_result"
    }
   ],
   "source": [
    "d1={'k1':100,'k2':200,'k3':300}\n",
    "d2=d1.get('k3')\n",
    "d2"
   ]
  },
  {
   "cell_type": "markdown",
   "metadata": {},
   "source": [
    "- keys(),values()and items()"
   ]
  },
  {
   "cell_type": "code",
   "execution_count": 17,
   "metadata": {},
   "outputs": [
    {
     "data": {
      "text/plain": [
       "dict_keys(['k1', 'k2', 'k3'])"
      ]
     },
     "execution_count": 17,
     "metadata": {},
     "output_type": "execute_result"
    }
   ],
   "source": [
    "d1.items()\n",
    "d1.values()\n",
    "d1.keys()"
   ]
  },
  {
   "cell_type": "markdown",
   "metadata": {},
   "source": [
    "- update()\n",
    "- setdefault()\n",
    "- copy()"
   ]
  },
  {
   "cell_type": "code",
   "execution_count": 30,
   "metadata": {},
   "outputs": [
    {
     "data": {
      "text/plain": [
       "{'name': 'baru', 'id': 1, 'branch': 'ece', 'age': 19}"
      ]
     },
     "execution_count": 30,
     "metadata": {},
     "output_type": "execute_result"
    }
   ],
   "source": [
    "student={'name':'baru','id':251,'branch':'ece'}\n",
    "student.update({'id':1})\n",
    "student.update({'age':19})\n",
    "student"
   ]
  },
  {
   "cell_type": "code",
   "execution_count": 31,
   "metadata": {},
   "outputs": [
    {
     "data": {
      "text/plain": [
       "{'name': 'baru', 'id': 1, 'branch': 'ece', 'age': 19}"
      ]
     },
     "execution_count": 31,
     "metadata": {},
     "output_type": "execute_result"
    }
   ],
   "source": [
    "student.setdefault('age',20)\n",
    "student"
   ]
  },
  {
   "cell_type": "code",
   "execution_count": 33,
   "metadata": {},
   "outputs": [
    {
     "data": {
      "text/plain": [
       "{'name': 'baru', 'id': 1, 'branch': 'ece', 'age': 19}"
      ]
     },
     "execution_count": 33,
     "metadata": {},
     "output_type": "execute_result"
    }
   ],
   "source": [
    "s2=student.copy()\n",
    "s2"
   ]
  },
  {
   "cell_type": "markdown",
   "metadata": {},
   "source": [
    "- popitems()\n",
    "- pop()\n",
    "- clear()"
   ]
  },
  {
   "cell_type": "code",
   "execution_count": 36,
   "metadata": {},
   "outputs": [
    {
     "data": {
      "text/plain": [
       "{1: 'a', 2: 'b'}"
      ]
     },
     "execution_count": 36,
     "metadata": {},
     "output_type": "execute_result"
    }
   ],
   "source": [
    "d={1:'a',2:'b',3:'c'}\n",
    "d.popitem()\n",
    "d"
   ]
  },
  {
   "cell_type": "code",
   "execution_count": 37,
   "metadata": {},
   "outputs": [
    {
     "data": {
      "text/plain": [
       "{2: 'b'}"
      ]
     },
     "execution_count": 37,
     "metadata": {},
     "output_type": "execute_result"
    }
   ],
   "source": [
    "d.pop(1)\n",
    "d"
   ]
  },
  {
   "cell_type": "code",
   "execution_count": 39,
   "metadata": {},
   "outputs": [
    {
     "data": {
      "text/plain": [
       "{}"
      ]
     },
     "execution_count": 39,
     "metadata": {},
     "output_type": "execute_result"
    }
   ],
   "source": [
    "d.clear()\n",
    "d"
   ]
  },
  {
   "cell_type": "code",
   "execution_count": 41,
   "metadata": {},
   "outputs": [
    {
     "data": {
      "text/plain": [
       "{'name': 'baru', 'name1': 'venky', 'pin': 1, 'pin1': 32}"
      ]
     },
     "execution_count": 41,
     "metadata": {},
     "output_type": "execute_result"
    }
   ],
   "source": [
    "d1={'name':'baru','name1':'venky'}\n",
    "d2={'pin':1,'pin1':32}\n",
    "d1.update(d2)\n",
    "d1"
   ]
  },
  {
   "cell_type": "code",
   "execution_count": 44,
   "metadata": {},
   "outputs": [
    {
     "data": {
      "text/plain": [
       "{'name': 'baru',\n",
       " 'name1': 'venky',\n",
       " 'pin': 1,\n",
       " 'pin1': 32,\n",
       " 'branch': 'cse',\n",
       " 'branch1': 'ece',\n",
       " 'gpa': 9,\n",
       " 'gpa1': 6}"
      ]
     },
     "execution_count": 44,
     "metadata": {},
     "output_type": "execute_result"
    }
   ],
   "source": [
    "d1={'name':'baru','name1':'venky'}\n",
    "d2={'pin':1,'pin1':32}\n",
    "d3={'branch':'cse','branch1':'ece'}\n",
    "d4={'gpa':9,'gpa1':6}\n",
    "d1.update(d2)\n",
    "d1.update(d3)\n",
    "d1.update(d4)\n",
    "d1"
   ]
  },
  {
   "cell_type": "code",
   "execution_count": 45,
   "metadata": {},
   "outputs": [
    {
     "name": "stdout",
     "output_type": "stream",
     "text": [
      "{'name': 'baru', 'name1': 'venky', 'pin': 1, 'pin1': 32, 'branch': 'cse', 'branch1': 'ece', 'gpa': 9, 'gpa1': 6}\n"
     ]
    }
   ],
   "source": [
    "d1={'name':'baru','name1':'venky'}\n",
    "d2={'pin':1,'pin1':32}\n",
    "d3={'branch':'cse','branch1':'ece'}\n",
    "d4={'gpa':9,'gpa1':6}\n",
    "d5={}\n",
    "for key in d1,d2,d3,d4:\n",
    "    d5.update(key)\n",
    "print(d5)"
   ]
  },
  {
   "cell_type": "markdown",
   "metadata": {},
   "source": [
    "## python program to bulild a contacts application"
   ]
  },
  {
   "cell_type": "code",
   "execution_count": 53,
   "metadata": {},
   "outputs": [
    {
     "name": "stdout",
     "output_type": "stream",
     "text": [
      "contact added\n",
      "contact already exist\n",
      "{'baru': 9666353801}\n",
      "baru\n",
      "existed\n"
     ]
    }
   ],
   "source": [
    "contacts={}\n",
    "def addcontacts(name,phone):\n",
    "    if name not in contacts:\n",
    "        contacts[name]=phone\n",
    "        print('contact added')\n",
    "    else:\n",
    "        print(\"contact already exist\")\n",
    "    return\n",
    "addcontacts('baru',9666353801)\n",
    "addcontacts('baru',9666353801)\n",
    "print(contacts)\n",
    "name=input()\n",
    "if name in contacts:\n",
    "    print(\"existed\")\n",
    "else:\n",
    "    print(\"not existed\")"
   ]
  },
  {
   "cell_type": "code",
   "execution_count": 62,
   "metadata": {},
   "outputs": [
    {
     "name": "stdout",
     "output_type": "stream",
     "text": [
      "1 : ['anu', 'cse']\n",
      "2 : ['sandy', 'ece']\n",
      "3 : ['mandy', 'civil']\n"
     ]
    }
   ],
   "source": [
    "students={1:['anu','cse'],2:['sandy','ece'],3:['mandy','civil']}\n",
    "for i in students:\n",
    "    print(i,':',students[i])"
   ]
  },
  {
   "cell_type": "code",
   "execution_count": 63,
   "metadata": {},
   "outputs": [
    {
     "name": "stdout",
     "output_type": "stream",
     "text": [
      "{1: 3, 2: 4, 3: 5, 4: 6, 5: 7, 6: 8, 7: 9, 8: 10, 9: 11, 10: 12}\n"
     ]
    }
   ],
   "source": [
    "d={}\n",
    "for i in range(1,11):\n",
    "    d[i]=i+2\n",
    "print(d)"
   ]
  },
  {
   "cell_type": "code",
   "execution_count": 67,
   "metadata": {},
   "outputs": [
    {
     "name": "stdout",
     "output_type": "stream",
     "text": [
      "233.33333333333334\n"
     ]
    }
   ],
   "source": [
    "d1={'n1':100,'n2':200,'n3':400}\n",
    "s=0\n",
    "c=0\n",
    "for i in d1:\n",
    "    s=s+d1[i]\n",
    "    c=c+1\n",
    "print(s/c)"
   ]
  },
  {
   "cell_type": "code",
   "execution_count": 74,
   "metadata": {},
   "outputs": [
    {
     "name": "stdout",
     "output_type": "stream",
     "text": [
      "233.33333333333334\n"
     ]
    }
   ],
   "source": [
    "d1={'n1':100,'n2':200,'n3':400}\n",
    "s=sum(d1.values())\n",
    "print(s/len(d1))"
   ]
  }
 ],
 "metadata": {
  "kernelspec": {
   "display_name": "Python 3",
   "language": "python",
   "name": "python3"
  },
  "language_info": {
   "codemirror_mode": {
    "name": "ipython",
    "version": 3
   },
   "file_extension": ".py",
   "mimetype": "text/x-python",
   "name": "python",
   "nbconvert_exporter": "python",
   "pygments_lexer": "ipython3",
   "version": "3.7.3"
  }
 },
 "nbformat": 4,
 "nbformat_minor": 2
}
