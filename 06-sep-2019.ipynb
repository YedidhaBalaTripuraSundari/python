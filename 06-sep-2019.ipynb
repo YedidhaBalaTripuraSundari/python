{
 "cells": [
  {
   "cell_type": "markdown",
   "metadata": {},
   "source": [
    "## Function"
   ]
  },
  {
   "cell_type": "code",
   "execution_count": 2,
   "metadata": {},
   "outputs": [
    {
     "name": "stdout",
     "output_type": "stream",
     "text": [
      "venky\n"
     ]
    }
   ],
   "source": [
    "def baru():\n",
    "    print(\"venky\")\n",
    "baru()"
   ]
  },
  {
   "cell_type": "code",
   "execution_count": 4,
   "metadata": {},
   "outputs": [
    {
     "name": "stdout",
     "output_type": "stream",
     "text": [
      "enter stringbaru\n",
      "urab\n"
     ]
    }
   ],
   "source": [
    "s=input(\"enter string\")\n",
    "def reverse(s):\n",
    "    print(s[::-1])\n",
    "reverse(s)"
   ]
  },
  {
   "cell_type": "code",
   "execution_count": 8,
   "metadata": {},
   "outputs": [
    {
     "name": "stdout",
     "output_type": "stream",
     "text": [
      "enter number2\n",
      "4\n"
     ]
    }
   ],
   "source": [
    "n=int(input(\"enter number\"))\n",
    "def square(n):\n",
    "    print(n*n)\n",
    "square(n)"
   ]
  },
  {
   "cell_type": "code",
   "execution_count": 9,
   "metadata": {},
   "outputs": [
    {
     "name": "stdout",
     "output_type": "stream",
     "text": [
      "enter number3\n",
      "enter number2\n",
      "5\n"
     ]
    }
   ],
   "source": [
    "a=int(input(\"enter number\"))\n",
    "b=int(input(\"enter number\"))\n",
    "def sum(a,b):\n",
    "    print(a+b)\n",
    "sum(a,b)"
   ]
  },
  {
   "cell_type": "code",
   "execution_count": 11,
   "metadata": {},
   "outputs": [
    {
     "name": "stdout",
     "output_type": "stream",
     "text": [
      "enter number435\n"
     ]
    },
    {
     "data": {
      "text/plain": [
       "3"
      ]
     },
     "execution_count": 11,
     "metadata": {},
     "output_type": "execute_result"
    }
   ],
   "source": [
    "n=input(\"enter number\")\n",
    "len(n)"
   ]
  },
  {
   "cell_type": "code",
   "execution_count": 20,
   "metadata": {},
   "outputs": [
    {
     "name": "stdout",
     "output_type": "stream",
     "text": [
      "enter stringlevel\n",
      "palondrome\n"
     ]
    }
   ],
   "source": [
    "s=input(\"enter string\")\n",
    "def palindrome(s):\n",
    "    d=s[::-1]\n",
    "    if(d==s):\n",
    "        print(\"palondrome\")\n",
    "    else:\n",
    "        print(\"no\")\n",
    "palindrome(s)"
   ]
  },
  {
   "cell_type": "code",
   "execution_count": 11,
   "metadata": {},
   "outputs": [
    {
     "name": "stdout",
     "output_type": "stream",
     "text": [
      "not a leap\n"
     ]
    }
   ],
   "source": [
    "# leap year\n",
    "def leap(n):\n",
    "    if n%400==0 or n%4==0 and n%100!=0:\n",
    "        print(\"leap\")\n",
    "    else:\n",
    "        print(\"not a leap\")\n",
    "leap(2014)"
   ]
  },
  {
   "cell_type": "code",
   "execution_count": 14,
   "metadata": {},
   "outputs": [
    {
     "data": {
      "text/plain": [
       "2"
      ]
     },
     "execution_count": 14,
     "metadata": {},
     "output_type": "execute_result"
    }
   ],
   "source": [
    "# Counting the nuber of digits \n",
    "def count(n):\n",
    "    return len(str(n))\n",
    "count(44)"
   ]
  },
  {
   "cell_type": "code",
   "execution_count": 15,
   "metadata": {},
   "outputs": [
    {
     "name": "stdout",
     "output_type": "stream",
     "text": [
      "73\n"
     ]
    }
   ],
   "source": [
    "# Biggest of 4\n",
    "def biggest(a,b,c,d):\n",
    "    if a>b and a>c and a>d:\n",
    "        print(a)\n",
    "    elif b>a and b>c and b>d:\n",
    "        print(b)\n",
    "    elif c>a and c>b and c>d:\n",
    "        print(c)\n",
    "    else:\n",
    "        print(d)\n",
    "biggest(2,45,73,4)\n"
   ]
  },
  {
   "cell_type": "code",
   "execution_count": 19,
   "metadata": {},
   "outputs": [
    {
     "data": {
      "text/plain": [
       "24"
      ]
     },
     "execution_count": 19,
     "metadata": {},
     "output_type": "execute_result"
    }
   ],
   "source": [
    "# Factorial with out recursion\n",
    "def factorial(n):\n",
    "    fact=1\n",
    "    for i in range(2,n+1):\n",
    "        fact*=i\n",
    "    return fact\n",
    "factorial(4)"
   ]
  },
  {
   "cell_type": "markdown",
   "metadata": {},
   "source": [
    "## Types of Functions"
   ]
  },
  {
   "cell_type": "code",
   "execution_count": 26,
   "metadata": {},
   "outputs": [
    {
     "name": "stdout",
     "output_type": "stream",
     "text": [
      "with out arguments adn without return value 22\n"
     ]
    }
   ],
   "source": [
    "def adding():\n",
    "    n1=10\n",
    "    n2=12\n",
    "    add=n1+n2\n",
    "    print(\"with out arguments adn without return value\",add)\n",
    "adding()"
   ]
  },
  {
   "cell_type": "markdown",
   "metadata": {},
   "source": [
    "2) Without arguments and with return value"
   ]
  },
  {
   "cell_type": "code",
   "execution_count": 33,
   "metadata": {},
   "outputs": [
    {
     "data": {
      "text/plain": [
       "16"
      ]
     },
     "execution_count": 33,
     "metadata": {},
     "output_type": "execute_result"
    }
   ],
   "source": [
    "def mul():\n",
    "    m1=4\n",
    "    m2=4\n",
    "    mul=m1*m2\n",
    "    return mul\n",
    "mul()"
   ]
  },
  {
   "cell_type": "markdown",
   "metadata": {},
   "source": [
    "3)With arguments without return value"
   ]
  },
  {
   "cell_type": "code",
   "execution_count": 37,
   "metadata": {},
   "outputs": [
    {
     "name": "stdout",
     "output_type": "stream",
     "text": [
      "With arguments without return value 16\n"
     ]
    }
   ],
   "source": [
    "def mul(m1,m2):\n",
    "    m1=4\n",
    "    m2=4\n",
    "    mul=m1*m2\n",
    "    print(\"With arguments without return value\",mul)\n",
    "mul(4,4)"
   ]
  },
  {
   "cell_type": "markdown",
   "metadata": {},
   "source": [
    "4)with arguments and with return"
   ]
  },
  {
   "cell_type": "code",
   "execution_count": 16,
   "metadata": {},
   "outputs": [
    {
     "data": {
      "text/plain": [
       "12"
      ]
     },
     "execution_count": 16,
     "metadata": {},
     "output_type": "execute_result"
    }
   ],
   "source": [
    "def add(a,b):\n",
    "    sum=a+b\n",
    "    return sum\n",
    "add(4,8)"
   ]
  },
  {
   "cell_type": "markdown",
   "metadata": {},
   "source": [
    "## Recursive function"
   ]
  },
  {
   "cell_type": "markdown",
   "metadata": {},
   "source": [
    "* A fucnciton call itself"
   ]
  },
  {
   "cell_type": "code",
   "execution_count": 16,
   "metadata": {},
   "outputs": [
    {
     "name": "stdout",
     "output_type": "stream",
     "text": [
      "-4\n"
     ]
    }
   ],
   "source": [
    "# functuon to calculate factorial of a number\n",
    "def factorial(n):\n",
    "    if n>1:\n",
    "        return n*factorial(n-1)\n",
    "    elif n==0:\n",
    "        return 1\n",
    "    else:\n",
    "        return n\n",
    "fact=factorial(-4)\n",
    "print(fact)"
   ]
  },
  {
   "cell_type": "markdown",
   "metadata": {},
   "source": [
    "# Tasks"
   ]
  },
  {
   "cell_type": "markdown",
   "metadata": {},
   "source": [
    " ## Function to print all numbers divisible by 6 and not a factor of 100 in a given range(lb, ub) inclusive"
   ]
  },
  {
   "cell_type": "code",
   "execution_count": 1,
   "metadata": {},
   "outputs": [
    {
     "name": "stdout",
     "output_type": "stream",
     "text": [
      "6\n"
     ]
    }
   ],
   "source": [
    "def divisible(lb,ub):\n",
    "     for i in range(lb,ub+1):\n",
    "        if i%6==0 and 100%i!=0:\n",
    "            print(i)\n",
    "divisible(6,10)\n"
   ]
  },
  {
   "cell_type": "markdown",
   "metadata": {},
   "source": [
    "## Function to find the average of cubes of all the even numbers in a given range(lb, ub) inclusive"
   ]
  },
  {
   "cell_type": "code",
   "execution_count": 6,
   "metadata": {},
   "outputs": [
    {
     "name": "stdout",
     "output_type": "stream",
     "text": [
      "36.0\n"
     ]
    }
   ],
   "source": [
    "def even(lb,ub):\n",
    "    s=0\n",
    "    j=0\n",
    "    for i in range(lb,ub+1):\n",
    "        if i%2==0:\n",
    "            c=i*i*i\n",
    "            s=s+c\n",
    "            j=j+1\n",
    "    print(s/j)\n",
    "even(2,4)\n",
    "            \n"
   ]
  },
  {
   "cell_type": "markdown",
   "metadata": {},
   "source": [
    "# Function to generate the list of factors for a given number"
   ]
  },
  {
   "cell_type": "code",
   "execution_count": 3,
   "metadata": {},
   "outputs": [
    {
     "name": "stdout",
     "output_type": "stream",
     "text": [
      "1\n",
      "2\n",
      "3\n",
      "6\n"
     ]
    }
   ],
   "source": [
    "def factors(n):\n",
    "    i=1\n",
    "    for i in range(1,n+1):\n",
    "        if n%i==0:\n",
    "            print(i)\n",
    "factors(6)"
   ]
  },
  {
   "cell_type": "markdown",
   "metadata": {},
   "source": [
    "## Function to check if a given number is Prime by using recursive function"
   ]
  },
  {
   "cell_type": "code",
   "execution_count": 5,
   "metadata": {},
   "outputs": [
    {
     "name": "stdout",
     "output_type": "stream",
     "text": [
      "enter number:5\n",
      "prime\n"
     ]
    }
   ],
   "source": [
    "def isprime(num,i):\n",
    "    if num==i:\n",
    "        return 1\n",
    "    else:\n",
    "        if num%i==0:\n",
    "            return False\n",
    "        else:\n",
    "            return 0+isprime(num,i+1)\n",
    "num=int(input(\"enter number:\"))\n",
    "res=isprime(num,2)\n",
    "if res==1:\n",
    "    print(\"prime\")\n",
    "else:\n",
    "    print('not prime')"
   ]
  },
  {
   "cell_type": "markdown",
   "metadata": {},
   "source": [
    "## Function to calculate the average first N Prime numbers  by using recursive function"
   ]
  },
  {
   "cell_type": "code",
   "execution_count": 2,
   "metadata": {},
   "outputs": [
    {
     "name": "stdout",
     "output_type": "stream",
     "text": [
      "enter N value7\n",
      "4\n"
     ]
    }
   ],
   "source": [
    "def prime(n,i):\n",
    "    if(n==i):\n",
    "        return 1\n",
    "    else:\n",
    "        if n%i==0:\n",
    "            return 0\n",
    "        else:\n",
    "            return 0+prime(n,i+1)\n",
    "N=int(input(\"enter N value\"))\n",
    "s=0\n",
    "c=0\n",
    "for k in range(2,N+1):\n",
    "    res=prime(k,2)\n",
    "    if(res==1):\n",
    "        c=c+1\n",
    "        s=s+k\n",
    "print(s//c)"
   ]
  },
  {
   "cell_type": "markdown",
   "metadata": {},
   "source": [
    "## Function to generate all Perfect numbers in a given range  by using recursive function"
   ]
  },
  {
   "cell_type": "code",
   "execution_count": 3,
   "metadata": {},
   "outputs": [
    {
     "name": "stdout",
     "output_type": "stream",
     "text": [
      "enter a number16\n",
      "6\n"
     ]
    }
   ],
   "source": [
    "def perfect(n,i):\n",
    "    if(n%i==0 and n!=i):\n",
    "        return i+ perfect(n,i+1)\n",
    "    elif(i==n):\n",
    "        return 0\n",
    "    else:\n",
    "        return 0+perfect(n,i+1)\n",
    "j=int(input(\"enter a number\"))\n",
    "for j in range(1,j+1):\n",
    "    s=perfect(j,1)\n",
    "    if(s==j):\n",
    "        print(j)"
   ]
  },
  {
   "cell_type": "markdown",
   "metadata": {},
   "source": [
    "## Function to calculate the average of all factorials in a given range"
   ]
  },
  {
   "cell_type": "code",
   "execution_count": 21,
   "metadata": {},
   "outputs": [
    {
     "name": "stdout",
     "output_type": "stream",
     "text": [
      "8.25\n"
     ]
    }
   ],
   "source": [
    "def factorial(n):\n",
    "    s=0\n",
    "    for i in range(1,n+1):\n",
    "        fact=1\n",
    "        for j in range(1,i+1):\n",
    "                fact=fact*j\n",
    "        s=s+fact\n",
    "    print(s/i)\n",
    "factorial(4)"
   ]
  },
  {
   "cell_type": "markdown",
   "metadata": {},
   "source": [
    "## Function to generate N odd armstrong numbers"
   ]
  },
  {
   "cell_type": "code",
   "execution_count": 44,
   "metadata": {},
   "outputs": [
    {
     "name": "stdout",
     "output_type": "stream",
     "text": [
      "1\n",
      "153\n"
     ]
    }
   ],
   "source": [
    "def odd(n):\n",
    "    for j in range(1,n+1):\n",
    "        q=j\n",
    "        s=0\n",
    "        while(j!=0): \n",
    "            r=j%10\n",
    "            m=r**3\n",
    "            s=s+m\n",
    "            j=j//10\n",
    "        if(s==q):\n",
    "            if(s%2!=0):\n",
    "                print(q)\n",
    "                \n",
    "odd(160)"
   ]
  },
  {
   "cell_type": "markdown",
   "metadata": {},
   "source": [
    "## Function to generate Multiplication table for a number in a given range\n",
    "10 in the range(100, 102) inclusive"
   ]
  },
  {
   "cell_type": "code",
   "execution_count": 4,
   "metadata": {},
   "outputs": [
    {
     "name": "stdout",
     "output_type": "stream",
     "text": [
      "1000\n",
      "1010\n",
      "1020\n"
     ]
    }
   ],
   "source": [
    "def mul(n):\n",
    "    for i in range(100,103):\n",
    "        print(n*i)\n",
    "mul(10)"
   ]
  },
  {
   "cell_type": "code",
   "execution_count": 12,
   "metadata": {},
   "outputs": [
    {
     "data": {
      "text/plain": [
       "'ew'"
      ]
     },
     "execution_count": 12,
     "metadata": {},
     "output_type": "execute_result"
    }
   ],
   "source": [
    "a=\"ewr\"\n",
    "a.strip('r')\n"
   ]
  },
  {
   "cell_type": "code",
   "execution_count": null,
   "metadata": {},
   "outputs": [],
   "source": []
  }
 ],
 "metadata": {
  "kernelspec": {
   "display_name": "Python 3",
   "language": "python",
   "name": "python3"
  },
  "language_info": {
   "codemirror_mode": {
    "name": "ipython",
    "version": 3
   },
   "file_extension": ".py",
   "mimetype": "text/x-python",
   "name": "python",
   "nbconvert_exporter": "python",
   "pygments_lexer": "ipython3",
   "version": "3.7.3"
  }
 },
 "nbformat": 4,
 "nbformat_minor": 2
}
