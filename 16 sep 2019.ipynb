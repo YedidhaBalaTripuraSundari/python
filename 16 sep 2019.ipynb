{
 "cells": [
  {
   "cell_type": "markdown",
   "metadata": {},
   "source": [
    "# Regular Expressions\n",
    "* syntax : import re\n",
    "# Methods in Regular Expressions\n",
    "- re.findall()\n",
    "- re.search()\n",
    "- re.match()\n",
    "- re.sub()\n",
    "- re.finditer()"
   ]
  },
  {
   "cell_type": "markdown",
   "metadata": {},
   "source": [
    "- set \"[_]\" --> We can insert set of chars,numbers and alphanumeric etc.\n",
    "- caret\"^g\" --> starts with\n",
    "- Dollar\"$\" --> Ends with\n",
    "- star \"*\" --> 0 or more occurences\n",
    "- plus \"+\" --> 1 or more occurences\n",
    "- {} --> Exactly the specified no.of occurences\n",
    "- \"|\" --> or\n",
    "- \"\\\" --> special sequence\n",
    "- A Period \".\" -->Represent a character"
   ]
  },
  {
   "cell_type": "markdown",
   "metadata": {},
   "source": [
    "# Special sequence \"\\\"\n",
    "- \\A --> Character is at the begining of the string\n",
    "- \\b --> Character is at begining or ending of the string\n",
    "- \\d -->any digit\n",
    "-\\D --> non digit\n",
    "- \\s --> space\n",
    "- \\S --> without sapce\n",
    "- \\w --> alphanumeric\n",
    "- \\W --> non alphanumeric(!@#$%^&*)"
   ]
  },
  {
   "cell_type": "markdown",
   "metadata": {},
   "source": [
    "# Write a program to find the characters between \"a\" and \"l\"."
   ]
  },
  {
   "cell_type": "code",
   "execution_count": 5,
   "metadata": {},
   "outputs": [
    {
     "name": "stdout",
     "output_type": "stream",
     "text": [
      "['h', 'g', 'a', 'i', 'g', 'l', 'a', 'g', 'a', 'g', 'e']\n"
     ]
    }
   ],
   "source": [
    "import re\n",
    "string= \"python programming language\"\n",
    "s=re.findall(\"[a-l]\",string)\n",
    "print(s)"
   ]
  },
  {
   "cell_type": "code",
   "execution_count": 7,
   "metadata": {},
   "outputs": [
    {
     "name": "stdout",
     "output_type": "stream",
     "text": [
      "['6', '5', '6', '7', '4', '5', '6', '7', '4', '5', '3']\n"
     ]
    }
   ],
   "source": [
    "import re\n",
    "a=\"the cost of diamond is 65674567453\"\n",
    "n=re.findall(\"\\d\",a)\n",
    "print(n)"
   ]
  },
  {
   "cell_type": "code",
   "execution_count": 8,
   "metadata": {},
   "outputs": [
    {
     "name": "stdout",
     "output_type": "stream",
     "text": [
      "['t', 'h', 'e', ' ', 'c', 'o', 's', 't', ' ', 'o', 'f', ' ', 'd', 'i', 'a', 'm', 'o', 'n', 'd', ' ', 'i', 's', ' ']\n"
     ]
    }
   ],
   "source": [
    "import re\n",
    "a=\"the cost of diamond is 65674567453\"\n",
    "n=re.findall(\"\\D\",a)\n",
    "print(n)"
   ]
  },
  {
   "cell_type": "code",
   "execution_count": 9,
   "metadata": {},
   "outputs": [
    {
     "name": "stdout",
     "output_type": "stream",
     "text": [
      "[' ', ' ', ' ', ' ', ' ']\n"
     ]
    }
   ],
   "source": [
    "import re\n",
    "a=\"the cost of diamond is 65674567453\"\n",
    "n=re.findall(\"\\s\",a)\n",
    "print(n)"
   ]
  },
  {
   "cell_type": "code",
   "execution_count": 10,
   "metadata": {},
   "outputs": [
    {
     "name": "stdout",
     "output_type": "stream",
     "text": [
      "['t', 'h', 'e', 'c', 'o', 's', 't', 'o', 'f', 'd', 'i', 'a', 'm', 'o', 'n', 'd', 'i', 's', '6', '5', '6', '7', '4', '5', '6', '7', '4', '5', '3']\n"
     ]
    }
   ],
   "source": [
    "import re\n",
    "a=\"the cost of diamond is 65674567453\"\n",
    "n=re.findall(\"\\S\",a)\n",
    "print(n)"
   ]
  },
  {
   "cell_type": "code",
   "execution_count": 11,
   "metadata": {},
   "outputs": [
    {
     "name": "stdout",
     "output_type": "stream",
     "text": [
      "['t', 'h', 'e', 'c', 'o', 's', 't', 'o', 'f', 'd', 'i', 'a', 'm', 'o', 'n', 'd', 'i', 's', '6', '5', '6', '7', '4', '5', '6', '7', '4', '5', '3']\n"
     ]
    }
   ],
   "source": [
    "import re\n",
    "a=\"the cost of diamond is 65674567453\"\n",
    "n=re.findall(\"\\w\",a)\n",
    "print(n)"
   ]
  },
  {
   "cell_type": "code",
   "execution_count": 12,
   "metadata": {},
   "outputs": [
    {
     "name": "stdout",
     "output_type": "stream",
     "text": [
      "[' ', ' ', ' ', ' ', ' ']\n"
     ]
    }
   ],
   "source": [
    "import re\n",
    "a=\"the cost of diamond is 65674567453\"\n",
    "n=re.findall(\"\\W\",a)\n",
    "print(n)"
   ]
  },
  {
   "cell_type": "markdown",
   "metadata": {},
   "source": [
    "# Take a string which contains more than 8 characters print 5 characters in that string"
   ]
  },
  {
   "cell_type": "code",
   "execution_count": 20,
   "metadata": {},
   "outputs": [
    {
     "name": "stdout",
     "output_type": "stream",
     "text": [
      "['programm']\n"
     ]
    }
   ],
   "source": [
    "import re\n",
    "s=\"programming\"\n",
    "n=re.findall(\"pro.....\",s)\n",
    "print(n)"
   ]
  },
  {
   "cell_type": "markdown",
   "metadata": {},
   "source": [
    "# phone number validation "
   ]
  },
  {
   "cell_type": "code",
   "execution_count": 1,
   "metadata": {},
   "outputs": [
    {
     "name": "stdout",
     "output_type": "stream",
     "text": [
      "9666353801\n",
      "true\n"
     ]
    }
   ],
   "source": [
    "import re\n",
    "def phone(number):\n",
    "    p='[6-9][0-9]{9}|[+][9][1][6-9][0-9]{9}'\n",
    "    if re.match(p,str(number)):\n",
    "        print(\"true\")\n",
    "    else:\n",
    "        print(\"False\")\n",
    "number=int(input())\n",
    "phone(number)"
   ]
  },
  {
   "cell_type": "code",
   "execution_count": 5,
   "metadata": {},
   "outputs": [
    {
     "name": "stdout",
     "output_type": "stream",
     "text": [
      "baru:bangaram:is:a:good:girl\n",
      "barubangaramisagoodgirl\n"
     ]
    }
   ],
   "source": [
    "# re.sub() method\n",
    "#syntax: re.sub(\"value to be remove\",value to be replace\",variable)\n",
    "# Write a program to remove all white spaces from a string\n",
    "import re\n",
    "s=\"baru bangaram is a good girl\"\n",
    "s1=re.sub(\"\\s\",':',s)\n",
    "print(s1)\n",
    "s2=re.sub(\"\\s\",'',s)\n",
    "print(s2)"
   ]
  },
  {
   "cell_type": "code",
   "execution_count": 13,
   "metadata": {},
   "outputs": [
    {
     "name": "stdout",
     "output_type": "stream",
     "text": [
      "n140251@rguktn.ac.in\n",
      "True\n"
     ]
    }
   ],
   "source": [
    "import re\n",
    "def emailid(email):\n",
    "    g='^[a-z][0-9a-z.]{5,15}[@][0-9a-z]{3,8}.[a-z]{2,4}|[a-z][0-9a-z.]{5,15}[@][0-9a-z]{3,8}.[a-z]{2,4}|.[a-z]{2,3}$'\n",
    "    if re.match(g,str(email)):\n",
    "        print(\"True\")\n",
    "    else:\n",
    "        print(\"false\")\n",
    "email=input()\n",
    "emailid(email)"
   ]
  },
  {
   "cell_type": "code",
   "execution_count": null,
   "metadata": {},
   "outputs": [],
   "source": []
  }
 ],
 "metadata": {
  "kernelspec": {
   "display_name": "Python 3",
   "language": "python",
   "name": "python3"
  },
  "language_info": {
   "codemirror_mode": {
    "name": "ipython",
    "version": 3
   },
   "file_extension": ".py",
   "mimetype": "text/x-python",
   "name": "python",
   "nbconvert_exporter": "python",
   "pygments_lexer": "ipython3",
   "version": "3.7.3"
  }
 },
 "nbformat": 4,
 "nbformat_minor": 2
}
