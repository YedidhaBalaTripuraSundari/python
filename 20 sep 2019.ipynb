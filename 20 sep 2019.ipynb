{
 "cells": [
  {
   "cell_type": "markdown",
   "metadata": {},
   "source": [
    "## Iterators\n",
    "- Iterator is an object,implemented in for loop,comprehension etc...\n",
    "### Iterable objects\n",
    "- strings,lists,tuples,dicitonaries,and sets\n",
    "## Methods\n",
    "- iter()\n",
    "- next()\n",
    "### Example:\n",
    "- l1=[1,2,3,4,5]\n",
    "- l1 is iterable object and 1,2,3,4,5 are iterators\n"
   ]
  },
  {
   "cell_type": "code",
   "execution_count": 4,
   "metadata": {},
   "outputs": [
    {
     "name": "stdout",
     "output_type": "stream",
     "text": [
      "3\n"
     ]
    }
   ],
   "source": [
    "l1=[1,2,3,4,5]\n",
    "print(l1[2])"
   ]
  },
  {
   "cell_type": "code",
   "execution_count": 9,
   "metadata": {},
   "outputs": [
    {
     "name": "stdout",
     "output_type": "stream",
     "text": [
      "1\n",
      "2\n",
      "3\n",
      "4\n",
      "5\n"
     ]
    }
   ],
   "source": [
    "iter_l1=iter(l1)\n",
    "for i in l1:\n",
    "    print(next(iter_l1))"
   ]
  },
  {
   "cell_type": "code",
   "execution_count": 10,
   "metadata": {},
   "outputs": [
    {
     "name": "stdout",
     "output_type": "stream",
     "text": [
      "b\n",
      "a\n",
      "r\n",
      "u\n"
     ]
    }
   ],
   "source": [
    "s=\"baru\"\n",
    "iter_s=iter(s)\n",
    "for i in s:\n",
    "    print(next(iter_s))"
   ]
  },
  {
   "cell_type": "code",
   "execution_count": 14,
   "metadata": {},
   "outputs": [
    {
     "name": "stdout",
     "output_type": "stream",
     "text": [
      "b\n",
      "a\n",
      "r\n",
      "u\n"
     ]
    }
   ],
   "source": [
    "s=\"baru\"\n",
    "iter_s=iter(s)\n",
    "print(next(iter_s))\n",
    "print(next(iter_s))\n",
    "print(next(iter_s))\n",
    "print(next(iter_s))"
   ]
  },
  {
   "cell_type": "code",
   "execution_count": 16,
   "metadata": {},
   "outputs": [
    {
     "name": "stdout",
     "output_type": "stream",
     "text": [
      "<str_iterator object at 0x00000000055554E0>\n"
     ]
    }
   ],
   "source": [
    "s=\"python\"\n",
    "it_s=iter(s)\n",
    "print(it_s)"
   ]
  },
  {
   "cell_type": "markdown",
   "metadata": {},
   "source": [
    "# Generators\n",
    "- generators are iterators \n",
    "- genenrator is a function that yields(return) an iterator (at a time one value)\n",
    "## Methods\n",
    "- yield"
   ]
  },
  {
   "cell_type": "code",
   "execution_count": 17,
   "metadata": {},
   "outputs": [
    {
     "name": "stdout",
     "output_type": "stream",
     "text": [
      "1\n",
      "a\n"
     ]
    }
   ],
   "source": [
    "def generators():\n",
    "    yield 1\n",
    "    yield 'a'\n",
    "for i in generators():\n",
    "    print(i)"
   ]
  },
  {
   "cell_type": "code",
   "execution_count": 23,
   "metadata": {},
   "outputs": [
    {
     "name": "stdout",
     "output_type": "stream",
     "text": [
      "4\n",
      "16\n",
      "256\n",
      "65536\n"
     ]
    }
   ],
   "source": [
    "# function to print square of each number until it reaches upper bound using generators\n",
    "def gen():\n",
    "\n",
    "    n=2\n",
    "    while True:\n",
    "        n=n**2\n",
    "        yield n\n",
    "a=gen()\n",
    "for i in range(1,5):\n",
    "    print(next(a))"
   ]
  },
  {
   "cell_type": "markdown",
   "metadata": {},
   "source": [
    "# Lambda\n",
    "- lambda creates anonymus function\n",
    "    * syntax: [lambda parameter1,parameter2,...:expression]\n",
    "    ## Advantages\n",
    "    - no looping and no calling functions"
   ]
  },
  {
   "cell_type": "code",
   "execution_count": 24,
   "metadata": {},
   "outputs": [
    {
     "data": {
      "text/plain": [
       "16"
      ]
     },
     "execution_count": 24,
     "metadata": {},
     "output_type": "execute_result"
    }
   ],
   "source": [
    "square=lambda x : x**2\n",
    "square(4)"
   ]
  },
  {
   "cell_type": "code",
   "execution_count": 25,
   "metadata": {},
   "outputs": [
    {
     "data": {
      "text/plain": [
       "False"
      ]
     },
     "execution_count": 25,
     "metadata": {},
     "output_type": "execute_result"
    }
   ],
   "source": [
    "a=lambda x,y :x>y\n",
    "a(2,4)"
   ]
  },
  {
   "cell_type": "markdown",
   "metadata": {},
   "source": [
    "## Higher-order funcitons\n",
    "- It takes functions as parameters\n",
    "### Types\n",
    "- Map\n",
    "- Filter\n",
    "- Reduce"
   ]
  },
  {
   "cell_type": "markdown",
   "metadata": {},
   "source": [
    "# Filter\n",
    "- it returns the value if it is True.\n",
    "- Syntax: filter(function,iterable)\n",
    "    - Here \"fuciton and iterable\" are parameters of filter"
   ]
  },
  {
   "cell_type": "markdown",
   "metadata": {},
   "source": [
    "# Printing the odd numbers in a given list"
   ]
  },
  {
   "cell_type": "code",
   "execution_count": null,
   "metadata": {},
   "outputs": [],
   "source": [
    "def odd(o):\n",
    "    return o%2!=0\n",
    "print(list(filter(odd,[1,2,3,4,5,6])))"
   ]
  },
  {
   "cell_type": "markdown",
   "metadata": {},
   "source": [
    "# Take a list of characters print vowels using filter funciton"
   ]
  },
  {
   "cell_type": "code",
   "execution_count": 32,
   "metadata": {},
   "outputs": [
    {
     "name": "stdout",
     "output_type": "stream",
     "text": [
      "['a', 'e']\n"
     ]
    }
   ],
   "source": [
    "alphabets=['a','b','c','d','d','e','f']\n",
    "def vowel(i):\n",
    "    return i in ['a','e','i','o','u']\n",
    "print(list(filter(vowel,alphabets)))"
   ]
  },
  {
   "cell_type": "code",
   "execution_count": 33,
   "metadata": {},
   "outputs": [
    {
     "name": "stdout",
     "output_type": "stream",
     "text": [
      "['a', 'e']\n"
     ]
    }
   ],
   "source": [
    "alphabets=['a','b','c','d','d','e','f']\n",
    "def vowel(i):\n",
    "    return i=='a' or i=='e' or i=='i' or i=='o' or i=='u'\n",
    "print(list(filter(vowel,alphabets)))"
   ]
  },
  {
   "cell_type": "markdown",
   "metadata": {},
   "source": [
    "# Take a list of alphanumeric elements and print alphabets using isalpha "
   ]
  },
  {
   "cell_type": "code",
   "execution_count": 44,
   "metadata": {},
   "outputs": [
    {
     "name": "stdout",
     "output_type": "stream",
     "text": [
      "['a', 'k']\n"
     ]
    }
   ],
   "source": [
    "print(list(filter(str.isalpha,['4','a','k','5','4'])))"
   ]
  },
  {
   "cell_type": "code",
   "execution_count": 50,
   "metadata": {},
   "outputs": [
    {
     "data": {
      "text/plain": [
       "['abded', 'erw', '      ']"
      ]
     },
     "execution_count": 50,
     "metadata": {},
     "output_type": "execute_result"
    }
   ],
   "source": [
    "list(filter(lambda s: len(s)>2,['abded','erw','e','      ']))"
   ]
  },
  {
   "cell_type": "markdown",
   "metadata": {},
   "source": [
    "## maps()\n",
    "- Syntax : map(function,iterable)"
   ]
  },
  {
   "cell_type": "code",
   "execution_count": 53,
   "metadata": {},
   "outputs": [
    {
     "name": "stdout",
     "output_type": "stream",
     "text": [
      "[5, 10, 6, 4]\n"
     ]
    }
   ],
   "source": [
    "def add(a,b):\n",
    "    return a+b\n",
    "print(list(map(add,[2,5,3,2],[3,5,3,2])))"
   ]
  },
  {
   "cell_type": "code",
   "execution_count": 58,
   "metadata": {},
   "outputs": [
    {
     "data": {
      "text/plain": [
       "[5, 3, 1, 6]"
      ]
     },
     "execution_count": 58,
     "metadata": {},
     "output_type": "execute_result"
    }
   ],
   "source": [
    "list(map(lambda s: len(s),['abded','erw','e','      ']))"
   ]
  },
  {
   "cell_type": "code",
   "execution_count": 57,
   "metadata": {},
   "outputs": [
    {
     "data": {
      "text/plain": [
       "(5, 3, 1, 6)"
      ]
     },
     "execution_count": 57,
     "metadata": {},
     "output_type": "execute_result"
    }
   ],
   "source": [
    "def mapfun(l):\n",
    "    return len(l)\n",
    "tuple(map(mapfun,['abded','erw','e','      ']))"
   ]
  },
  {
   "cell_type": "code",
   "execution_count": 60,
   "metadata": {},
   "outputs": [
    {
     "name": "stdout",
     "output_type": "stream",
     "text": [
      "[235, 47]\n"
     ]
    }
   ],
   "source": [
    "import operator\n",
    "print(list(map(operator.add,[1,2,4],[234,45])))"
   ]
  },
  {
   "cell_type": "markdown",
   "metadata": {},
   "source": [
    "# concatenating the  words of two lists"
   ]
  },
  {
   "cell_type": "code",
   "execution_count": 61,
   "metadata": {},
   "outputs": [
    {
     "name": "stdout",
     "output_type": "stream",
     "text": [
      "['abcdmn', 'lmnere']\n"
     ]
    }
   ],
   "source": [
    "def add(l1,l2):\n",
    "    return l1+l2\n",
    "print(list(map(add,['abcd','lmn'],['mn','ere'])))"
   ]
  },
  {
   "cell_type": "code",
   "execution_count": null,
   "metadata": {},
   "outputs": [],
   "source": []
  }
 ],
 "metadata": {
  "kernelspec": {
   "display_name": "Python 3",
   "language": "python",
   "name": "python3"
  },
  "language_info": {
   "codemirror_mode": {
    "name": "ipython",
    "version": 3
   },
   "file_extension": ".py",
   "mimetype": "text/x-python",
   "name": "python",
   "nbconvert_exporter": "python",
   "pygments_lexer": "ipython3",
   "version": "3.7.3"
  }
 },
 "nbformat": 4,
 "nbformat_minor": 2
}
