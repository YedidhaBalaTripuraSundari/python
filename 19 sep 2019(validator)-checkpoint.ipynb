{
 "cells": [
  {
   "cell_type": "markdown",
   "metadata": {},
   "source": [
    "# Validate program"
   ]
  },
  {
   "cell_type": "markdown",
   "metadata": {},
   "source": [
    "###  Fuction to add contacts in a contacts text file"
   ]
  },
  {
   "cell_type": "code",
   "execution_count": 18,
   "metadata": {},
   "outputs": [
    {
     "name": "stdout",
     "output_type": "stream",
     "text": [
      "contact added\n"
     ]
    }
   ],
   "source": [
    "from validator import phone as pnv, emailid as ev\n",
    "def addcontact(name,phn,email):\n",
    "    if not checkcontactexist(name):\n",
    "        if pnv(phn) and ev(email):\n",
    "            with open(\"contacts.txt\",\"a\") as f:\n",
    "                line=name+','+str(phn)+','+email+'\\n'\n",
    "                f.write(line)\n",
    "            print(\"contact added\")\n",
    "        else:\n",
    "            print(\"enter valid details\")\n",
    "        return\n",
    "    else:\n",
    "        print(\"already exist\")\n",
    "    return\n",
    "\n",
    "import re\n",
    "def checkcontactexist(name):\n",
    "    with open(\"contacts.txt\",\"r\") as f:\n",
    "        filedata=f.read()\n",
    "    return re.search(name,filedata)\n",
    "addcontact('name3',9948273760,'n140156@rguktn.ac.in')"
   ]
  },
  {
   "cell_type": "code",
   "execution_count": null,
   "metadata": {},
   "outputs": [],
   "source": []
  }
 ],
 "metadata": {
  "kernelspec": {
   "display_name": "Python 3",
   "language": "python",
   "name": "python3"
  },
  "language_info": {
   "codemirror_mode": {
    "name": "ipython",
    "version": 3
   },
   "file_extension": ".py",
   "mimetype": "text/x-python",
   "name": "python",
   "nbconvert_exporter": "python",
   "pygments_lexer": "ipython3",
   "version": "3.7.3"
  }
 },
 "nbformat": 4,
 "nbformat_minor": 2
}
